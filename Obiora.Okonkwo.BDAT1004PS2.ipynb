{
 "cells": [
  {
   "cell_type": "markdown",
   "id": "3357d841",
   "metadata": {},
   "source": [
    "Question 1"
   ]
  },
  {
   "cell_type": "code",
   "execution_count": 2,
   "id": "3233192f",
   "metadata": {},
   "outputs": [
    {
     "data": {
      "text/plain": [
       "6"
      ]
     },
     "execution_count": 2,
     "metadata": {},
     "output_type": "execute_result"
    }
   ],
   "source": [
    "a=0\n",
    "def b():\n",
    " global a\n",
    " a = c(a)\n",
    "def c(a):\n",
    " return a + 2\n",
    "\n",
    "\n",
    "b()\n",
    "b()\n",
    "b()\n",
    "a\n",
    "\n",
    "\n",
    "\n"
   ]
  },
  {
   "cell_type": "markdown",
   "id": "882ac961",
   "metadata": {},
   "source": [
    "The first \"a\" is global and has the value 0.\n",
    "The \"a\" in the function b() was decleared global and function b() does nothing but define the current value of \"a\".\n",
    "Therefore each time the function b() is called, \"a\" carries the value of function c(a) which is a+2.\n",
    "Since \"a\" was initially set as 0, this first value of c(a) is 0+2 whic is 2.\n",
    "The next value of c(a) is 2+2 which is 4.\n",
    "The next value of c(a) is 4+2 which is 6.\n",
    "Therefore when \"a\" is called, the current value was printed which is 6."
   ]
  },
  {
   "cell_type": "markdown",
   "id": "ca038397",
   "metadata": {},
   "source": [
    "Question 2"
   ]
  },
  {
   "cell_type": "code",
   "execution_count": 6,
   "id": "127c4b4e",
   "metadata": {},
   "outputs": [
    {
     "name": "stdout",
     "output_type": "stream",
     "text": [
      "123\n",
      "File ileLength.txt not found.\n"
     ]
    }
   ],
   "source": [
    "def fileLength(file_name):\n",
    "    try: #this will try the following line of codes\n",
    "        file = open(file_name)\n",
    "        contents = file.read()\n",
    "        file.close()\n",
    "        print(len(contents))\n",
    "    except FileNotFoundError: #This prints out if there is a FileNotFoundError error\n",
    "        print(\"File \" + file_name + \" not found.\")\n",
    "\n",
    "fileLength(\"FileLength.txt\")\n",
    "fileLength(\"ileLength.txt\")\n"
   ]
  },
  {
   "cell_type": "markdown",
   "id": "4069d131",
   "metadata": {},
   "source": [
    "Question 3a"
   ]
  },
  {
   "cell_type": "code",
   "execution_count": 7,
   "id": "176fbe01",
   "metadata": {},
   "outputs": [
    {
     "data": {
      "text/plain": [
       "['doll', 'firetruck', 'kitten']"
      ]
     },
     "execution_count": 7,
     "metadata": {},
     "output_type": "execute_result"
    }
   ],
   "source": [
    "class Marsupial:#creating a class that takes in words and adds to a list\n",
    "    \n",
    "    def __init__(self, mar=[]): #creating an empty list\n",
    "        self.m = mar\n",
    "    \n",
    "    def put_in_pouch (self, item): #this will append each word to the list\n",
    "        return self.m.append(item)\n",
    "\n",
    "    def pouch_contents(self): #This will returmn the list\n",
    "        return self.m\n",
    "        \n",
    "m = Marsupial()\n",
    "m.put_in_pouch('doll')\n",
    "m.put_in_pouch('firetruck')\n",
    "m.put_in_pouch('kitten')\n",
    "m.pouch_contents()\n",
    "        \n",
    "        \n",
    "        \n",
    "        "
   ]
  },
  {
   "cell_type": "markdown",
   "id": "066cb566",
   "metadata": {},
   "source": [
    "Question 3b"
   ]
  },
  {
   "cell_type": "code",
   "execution_count": 8,
   "id": "5fd50e5d",
   "metadata": {},
   "outputs": [
    {
     "name": "stdout",
     "output_type": "stream",
     "text": [
      "I am a Kangaroo located at coordinates (0, 0)\n",
      "['doll', 'firetruck', 'kitten']\n",
      "I am a Kangaroo located at coordinates (3, 0)\n"
     ]
    }
   ],
   "source": [
    "class Kangaroo(Marsupial):#creating a subclass of Marsupial that extends it\n",
    "    def __init__(self,  xcoord, ycoord, mar=[]): #it takes in 2 coordinate inputs\n",
    "        \n",
    "        self.x = xcoord\n",
    "        self.y = ycoord\n",
    "        self.m = mar\n",
    "        \n",
    "    \n",
    "    def jump(self, dx, dy):#moves the x and y coordinates by dx and dy\n",
    "        \n",
    "        self.x += dx\n",
    "        self.y += dy\n",
    "        \n",
    "    def __str__(self):#making a string representation\n",
    "        return 'I am a Kangaroo located at coordinates ({}, {})'.format(self.x, self.y).__str__()\n",
    "    \n",
    "        \n",
    "        \n",
    "        \n",
    "k = Kangaroo(0,0)\n",
    "print(k)\n",
    "\n",
    "k.put_in_pouch('doll')\n",
    "k.put_in_pouch('firetruck')\n",
    "k.put_in_pouch('kitten')\n",
    "print(k.pouch_contents())\n",
    "\n",
    "k.jump(1,0)\n",
    "k.jump(1,0)\n",
    "k.jump(1,0)\n",
    "\n",
    "print(k)\n",
    "\n"
   ]
  },
  {
   "cell_type": "markdown",
   "id": "206387af",
   "metadata": {},
   "source": [
    "Question 4"
   ]
  },
  {
   "cell_type": "code",
   "execution_count": 9,
   "id": "b35b9372",
   "metadata": {},
   "outputs": [
    {
     "name": "stdout",
     "output_type": "stream",
     "text": [
      "1\n",
      "end\n",
      "10\n",
      "5\n",
      "16\n",
      "8\n",
      "4\n",
      "2\n",
      "1\n",
      "end\n"
     ]
    }
   ],
   "source": [
    "\n",
    "def collatz(x):\n",
    "    if x < 0: #statement to indicate that the number should be pisitive\n",
    "        print(\"The integer must be positive\")\n",
    "        \n",
    "    else:  \n",
    "        if x == 1: #statement that indicates when the recursion should stop\n",
    "            print(round(x))\n",
    "            print(\"end\")\n",
    "            \n",
    "        else:   #statement that applies the formula    \n",
    "            if x % 2 == 0: \n",
    "                print(round(x))\n",
    "                collatz(x/2)\n",
    "            else:\n",
    "                print(round(x))\n",
    "                collatz((3*x) + 1)\n",
    "\n",
    "collatz(1)\n",
    "collatz(10)\n",
    "        "
   ]
  },
  {
   "cell_type": "markdown",
   "id": "82327a9a",
   "metadata": {},
   "source": [
    "Question 5"
   ]
  },
  {
   "cell_type": "code",
   "execution_count": 10,
   "id": "af323835",
   "metadata": {},
   "outputs": [
    {
     "name": "stdout",
     "output_type": "stream",
     "text": [
      "\n",
      "1010"
     ]
    }
   ],
   "source": [
    "def binary(n):\n",
    "    \n",
    "    bina = [] #an empty list where modulus result will be stored\n",
    "    if n == 0: #statement that indicates when to stop the recursion\n",
    "        print(\"\")\n",
    "    else:\n",
    "        bina2 = binary(n//2) #dividing the n value by 2 to get the next value to work with\n",
    "        bina.append(n%2) #using the modulus to get the binary results\n",
    "        print(*bina, end = \"\")\n",
    "        \n",
    "        \n",
    "        \n",
    "        \n",
    "        \n",
    "    \n",
    "binary(10)"
   ]
  },
  {
   "cell_type": "markdown",
   "id": "643acc73",
   "metadata": {},
   "source": [
    "Question 6"
   ]
  },
  {
   "cell_type": "code",
   "execution_count": 11,
   "id": "19a0d35a",
   "metadata": {},
   "outputs": [
    {
     "name": "stdout",
     "output_type": "stream",
     "text": [
      "W3C Mission\n",
      "Principles\n"
     ]
    }
   ],
   "source": [
    "from html.parser import HTMLParser\n",
    "class HeadingParser(HTMLParser):        \n",
    "    \n",
    "    def __init__(self):\n",
    "        HTMLParser.__init__(self)\n",
    "        self.recording = False\n",
    "\n",
    "    def handle_starttag(self, tag, attrs):\n",
    "        if tag == 'h1':\n",
    "            self.recording = True\n",
    "        elif tag == 'h2':\n",
    "            self.recording = True\n",
    "\n",
    "    def handle_endtag(self, tag):\n",
    "        if tag == 'h1':\n",
    "            self.recording = False\n",
    "        elif tag == 'h2':\n",
    "            self.recording = False\n",
    "\n",
    "    def handle_data(self, data):\n",
    "        if self.recording:\n",
    "            print (data)\n",
    "            \n",
    "         \n",
    "    \n",
    "                \n",
    "infile = open('w3c.html')\n",
    "content = infile.read()\n",
    "infile.close()\n",
    "hp = HeadingParser()\n",
    "hp.feed(content)"
   ]
  },
  {
   "cell_type": "markdown",
   "id": "e154641e",
   "metadata": {},
   "source": [
    "Question 7"
   ]
  },
  {
   "cell_type": "code",
   "execution_count": 80,
   "id": "66ed182f",
   "metadata": {},
   "outputs": [
    {
     "name": "stdout",
     "output_type": "stream",
     "text": [
      "https://reed.cs.depaul.edu/lperkovic/\n",
      "  http://www.cdm.depaul.edu/about/Pages/School-of-Computing.aspx\n",
      "  http://www.cdm.depaul.edu\n",
      "  https://reed.cs.depaul.edu/lperkovic/courses/csc241/\n",
      "  https://reed.cs.depaul.edu/lperkovic/courses/csc242/\n",
      "  https://reed.cs.depaul.edu/lperkovic/papers/papers.html\n",
      "    http://www.amazon.com/Introduction-Computing-Using-Python-Application/dp/0470618469\n",
      "    http://www.amazon.com/Introduction-Computing-Using-Python-Application/dp/1118890949\n",
      "    http://dept-info.labri.fr/%7Egavoille/article/BGHP10\n",
      "    http://dept-info.labri.fr/%7Egavoille/article/BGHIP10\n",
      "    http://facweb.cs.depaul.edu/asettle/research/papers/computingFECS07.pdf\n",
      "    http://facweb.cs.depaul.edu/ikanj/Papers/Latex/genus_journal.pdf\n",
      "    http://facweb.cs.depaul.edu/research/TechReports/42400095.pdf\n",
      "    http://cd-docdb.fnal.gov/0013/001352/001/CHEP06_Poster_014_Garzoglio_ApplicationAwareServices_Prelim.pdf\n",
      "    http://facweb.cs.depaul.edu/research/TechReports/TR04-006.pdf\n",
      "    http://reed.cs.depaul.edu/lperkovic/papers/dominatingset.ps\n",
      "    http://reed.cs.depaul.edu/lperkovic/papers/automata.ps\n",
      "    http://reed.cs.depaul.edu/lperkovic/papers/matching.ps\n",
      "    http://reed.cs.depaul.edu/lperkovic/papers/treejour.ps\n",
      "    http://reports-archive.adm.cs.cmu.edu/anon/1998/CMU-CS-98-176.ps\n",
      "    http://reed.cs.depaul.edu/lperkovic/papers/regular.ps\n",
      "    http://reed.cs.depaul.edu/lperkovic/papers/kpap.ps\n"
     ]
    }
   ],
   "source": [
    "from urllib.request import urlopen\n",
    "from urllib.parse import urljoin\n",
    "from html.parser import HTMLParser\n",
    "import re\n",
    "\n",
    "\n",
    "class CollectURL(HTMLParser):\n",
    "    #This collects hyperlink URLs into a list\n",
    "\n",
    "    def __init__(self, url):\n",
    "        #initializes parser, the url, and a list\n",
    "        HTMLParser.__init__(self)\n",
    "        self.url = url\n",
    "        self.links = []\n",
    "\n",
    "    \n",
    "    def handle_starttag(self, tag, attrs):\n",
    "        #collects hyperlink URLs in their absolute format\n",
    "        if tag == 'a':\n",
    "            for attr in attrs:\n",
    "                if attr[0] == 'href':\n",
    "                    # construct absolute URL\n",
    "                    absolute = urljoin(self.url, attr[1])\n",
    "                    if absolute[:4] == 'http': # collect HTTP URLs\n",
    "                        self.links.append(absolute)\n",
    "                        \n",
    "    def getLinks(self):\n",
    "        #returns hyperlinks URLs in their absolute format\n",
    "        return self.links\n",
    "\n",
    "\n",
    "\n",
    "\n",
    "            \n",
    "def collectLinks(url):\n",
    "    \n",
    "    # obtain links in the web page\n",
    "    content = urlopen(url).read().decode('cp1252')\n",
    "    collector = CollectURL(url)\n",
    "    collector.feed(content)\n",
    "    urls = collector.getLinks() # get list of link\n",
    "    return urls\n",
    "\n",
    "def webdir(url, depth, indent): #a recursive function that calls collectLinks()\n",
    "                                #on every visited web page\n",
    "    \n",
    "    print(indent*\" \" + url)\n",
    "    \n",
    "    if depth == 0: #condition for when depth becomes 0\n",
    "        return\n",
    "\n",
    "    for link in collectLinks(url): # this is the recursion that crawls from every link in links list \n",
    "            try:\n",
    "                webdir(link, depth-1, indent+2)\n",
    "            except:\n",
    "                pass\n",
    "            \n",
    "            \n",
    "webdir('https://reed.cs.depaul.edu/lperkovic/',2,0)     \n",
    "\n",
    "\n",
    "\n"
   ]
  },
  {
   "cell_type": "markdown",
   "id": "0247ab71",
   "metadata": {},
   "source": [
    "Question 8"
   ]
  },
  {
   "cell_type": "markdown",
   "id": "f7d1bae3",
   "metadata": {},
   "source": [
    "\n",
    "SELECT [Temperature (C)] FROM Table\n",
    "\n",
    "SELECT Distinct City FROM Table\n",
    "\n",
    "SELECT * FROM Table \n",
    "WHERE Country = 'India'\n",
    "\n",
    "SELECT * FROM Table \n",
    "WHERE Season = 'Fall'\n",
    "\n",
    "SELECT City, Country, Season, [Rainfall(mm)] FROM Table\n",
    "WHERE [Rainfall(mm)]>=200 and [Rainfall(mm)]<=400\n",
    "\n",
    "SELECT City, Country from Table\n",
    "WHERE Season = 'Fall' and [Temperature (c)]>20\n",
    "Order By [Temperature (c)]\n",
    "\n",
    "SELECT sum([Rainfall(mm)]) FROM Table\n",
    "WHERE City = 'Cairo'\n",
    "\n",
    "SELECT Season, SUM(([Rainfall(mm)]) FROM Table GROUP BY Season\n",
    "\n"
   ]
  },
  {
   "cell_type": "markdown",
   "id": "7db895c7",
   "metadata": {},
   "source": [
    "Question 9"
   ]
  },
  {
   "cell_type": "code",
   "execution_count": 16,
   "id": "84191f13",
   "metadata": {},
   "outputs": [
    {
     "data": {
      "text/plain": [
       "['THE', 'QUICK', 'BROWN', 'FOX', 'JUMPS', 'OVER', 'THE', 'LAZY', 'DOG']"
      ]
     },
     "execution_count": 16,
     "metadata": {},
     "output_type": "execute_result"
    }
   ],
   "source": [
    "words = ['The', 'quick', 'brown', 'fox', 'jumps', 'over',\n",
    "'the', 'lazy', 'dog']\n",
    "newWords = [word.upper() for word in words]\n",
    "newWords"
   ]
  },
  {
   "cell_type": "code",
   "execution_count": 17,
   "id": "baa2fef6",
   "metadata": {},
   "outputs": [
    {
     "data": {
      "text/plain": [
       "['the', 'quick', 'brown', 'fox', 'jumps', 'over', 'the', 'lazy', 'dog']"
      ]
     },
     "execution_count": 17,
     "metadata": {},
     "output_type": "execute_result"
    }
   ],
   "source": [
    "newWords = [word.lower() for word in words]\n",
    "newWords"
   ]
  },
  {
   "cell_type": "code",
   "execution_count": 18,
   "id": "1a2c090e",
   "metadata": {},
   "outputs": [
    {
     "data": {
      "text/plain": [
       "[3, 5, 5, 3, 5, 4, 3, 4, 3]"
      ]
     },
     "execution_count": 18,
     "metadata": {},
     "output_type": "execute_result"
    }
   ],
   "source": [
    "newWords = [len(word) for word in words]\n",
    "newWords"
   ]
  },
  {
   "cell_type": "code",
   "execution_count": 19,
   "id": "738b340e",
   "metadata": {},
   "outputs": [
    {
     "data": {
      "text/plain": [
       "[['THE,the,3'],\n",
       " ['QUICK,quick,5'],\n",
       " ['BROWN,brown,5'],\n",
       " ['FOX,fox,3'],\n",
       " ['JUMPS,jumps,5'],\n",
       " ['OVER,over,4'],\n",
       " ['THE,the,3'],\n",
       " ['LAZY,lazy,4'],\n",
       " ['DOG,dog,3']]"
      ]
     },
     "execution_count": 19,
     "metadata": {},
     "output_type": "execute_result"
    }
   ],
   "source": [
    "newWords = [[\"{},{},{}\".format(word.upper(),word.lower(),len(word))] for word in words]\n",
    "newWords"
   ]
  },
  {
   "cell_type": "code",
   "execution_count": 20,
   "id": "3bc72385",
   "metadata": {},
   "outputs": [
    {
     "data": {
      "text/plain": [
       "['quick', 'brown', 'jumps', 'over', 'lazy']"
      ]
     },
     "execution_count": 20,
     "metadata": {},
     "output_type": "execute_result"
    }
   ],
   "source": [
    "newWords = [word for word in words if len(word)>=4]\n",
    "newWords"
   ]
  },
  {
   "cell_type": "code",
   "execution_count": null,
   "id": "b66a2032",
   "metadata": {},
   "outputs": [],
   "source": []
  }
 ],
 "metadata": {
  "kernelspec": {
   "display_name": "Python 3",
   "language": "python",
   "name": "python3"
  },
  "language_info": {
   "codemirror_mode": {
    "name": "ipython",
    "version": 3
   },
   "file_extension": ".py",
   "mimetype": "text/x-python",
   "name": "python",
   "nbconvert_exporter": "python",
   "pygments_lexer": "ipython3",
   "version": "3.8.8"
  }
 },
 "nbformat": 4,
 "nbformat_minor": 5
}
